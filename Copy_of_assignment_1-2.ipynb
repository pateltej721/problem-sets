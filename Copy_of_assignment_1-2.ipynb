{
 "cells": [
  {
   "cell_type": "markdown",
   "metadata": {
    "id": "UaWO8SkGTT1d"
   },
   "source": [
    "### Problem 1\n",
    "\n",
    "Write a Python function, `find_max()`, to find and return the largest number in a non-empty list of numbers. E.g., if `nums = [1, 2, 3, 4, 5]`, `find_max(nums)` should return `5`. \n",
    "\n",
    "_Note:_ Python has a builtin `max()` function; don't use it for this exercise! The goal here is to practice solving basic programming problems on your own.\n",
    "\n",
    "_Purpose:_ To give you practice solving basic programming problems with Python and working with array-like data structures."
   ]
  },
  {
   "cell_type": "code",
   "execution_count": null,
   "metadata": {
    "colab": {
     "base_uri": "https://localhost:8080/"
    },
    "id": "ThBnVeF3TT1j",
    "outputId": "490e714a-ee41-4890-adaa-ecbf61cee23f"
   },
   "outputs": [
    {
     "name": "stdout",
     "output_type": "stream",
     "text": [
      "8\n"
     ]
    }
   ],
   "source": [
    "def find_max(nums):\n",
    "  max = nums[0]\n",
    "  for x in nums:\n",
    "    if x > max :\n",
    "      max = x\n",
    "  return max \n",
    "\n",
    "nums = [1, 5, 2, 8]\n",
    "print (find_max(nums))\n"
   ]
  },
  {
   "cell_type": "markdown",
   "metadata": {
    "id": "AkUlATW3TT1l"
   },
   "source": [
    "Create and test some sample lists to demonstrate that your `find_max()` function works correctly."
   ]
  },
  {
   "cell_type": "code",
   "execution_count": null,
   "metadata": {
    "colab": {
     "base_uri": "https://localhost:8080/"
    },
    "id": "QdADz70OTT1m",
    "outputId": "6b7b1821-8fb7-4c2c-bb25-d9dff61e3e28"
   },
   "outputs": [
    {
     "name": "stdout",
     "output_type": "stream",
     "text": [
      "10\n",
      "42\n"
     ]
    }
   ],
   "source": [
    "nums1 = [4, 3, 7, 9, 10]\n",
    "print (find_max(nums1))\n",
    "\n",
    "nums2 = [3, 1, 2, 0, 42]\n",
    "print (find_max(nums2))"
   ]
  },
  {
   "cell_type": "markdown",
   "metadata": {
    "id": "TJnXDkjqTT1n"
   },
   "source": [
    "### Problem 2\n",
    "\n",
    "Write a Python function, `median()`, that returns the median value of a non-empty list of numbers. Use the [usual definition of \"median\"](https://stattrek.com/statistics/dictionary.aspx?definition=median). You will likely find the [Python list documentation](https://docs.python.org/3/tutorial/datastructures.html) to be helpful for solving this problem.\n",
    "\n",
    "_Note:_ You can find ready-to-use median function in numpy and elsewhere; don't use them for this exercise! The goal here is to practice solving basic programming problems on your own.\n",
    "\n",
    "_Purpose:_ To give you practice solving basic programming problems with Python and working with array-like data structures."
   ]
  },
  {
   "cell_type": "code",
   "execution_count": null,
   "metadata": {
    "colab": {
     "base_uri": "https://localhost:8080/"
    },
    "id": "A8p70WcOTT1o",
    "outputId": "f1414935-7172-4748-fe2f-3887452fdbec"
   },
   "outputs": [
    {
     "data": {
      "text/plain": [
       "3"
      ]
     },
     "execution_count": 5,
     "metadata": {
      "tags": []
     },
     "output_type": "execute_result"
    }
   ],
   "source": [
    "def median(num):\n",
    "  num.sort()\n",
    "  if len(num) % 2 == 1:\n",
    "          return num[len(num)//2]\n",
    "  else:\n",
    "          return (num[len(num)//2-1] + num[len(num)//2])/2\n",
    "\n",
    "num = [1, 2, 3, 4, 5]\n",
    "median(num)"
   ]
  },
  {
   "cell_type": "markdown",
   "metadata": {
    "id": "pfl6wpT0TT1o"
   },
   "source": [
    "Create and test some sample lists to demonstrate that your `median()` function works correctly."
   ]
  },
  {
   "cell_type": "code",
   "execution_count": null,
   "metadata": {
    "colab": {
     "base_uri": "https://localhost:8080/"
    },
    "id": "3pb7peilTT1p",
    "outputId": "cd2b0649-edda-4709-9c2d-5dffcd156d2e"
   },
   "outputs": [
    {
     "name": "stdout",
     "output_type": "stream",
     "text": [
      "3.5\n",
      "4.5\n",
      "8\n"
     ]
    }
   ],
   "source": [
    "num1 = [1, 3, 2, 6, 5, 4]\n",
    "print(median(num1))\n",
    "  \n",
    "print(median([1, 2, 3, 4, 7, 8, 5, 6]))\n",
    "\n",
    "print(median([4, 6, 8, 10, 12]))"
   ]
  },
  {
   "cell_type": "markdown",
   "metadata": {
    "id": "RQosUnVzTT1p"
   },
   "source": [
    "### Problem 3\n",
    "\n",
    "Write a Python function to find the roots of a quadratic equation, $ax^2 + bx + c = 0$. (The easiest way to do this is by using the [quadratic formula](https://en.wikipedia.org/wiki/Quadratic_formula) that you learned in algebra: $x = \\frac{-b \\pm \\sqrt{b^2 - 4ac}}{2a}$.)  Your function should take three arguments that represent the  coefficients of the equation to solve (e.g., `find_roots(a, b, c)`). If there are no real roots (i.e., if complex numbers would be required), your function can simply return `None`. You will need to use Python's [math package](https://docs.python.org/3/library/math.html) to solve this problem.\n",
    "\n",
    "You may assume that $a$ is non-zero, but if you'd like an extra challenge, have your function handle the case where $a = 0$; that is, when the equation is linear and not quadratic.\n",
    "\n",
    "_Purpose:_ To give you practice implementing numerical computations in Python, translating mathematical statements to code, and using Python packages. And, of course, to give you practice solving problems with Python."
   ]
  },
  {
   "cell_type": "code",
   "execution_count": null,
   "metadata": {
    "colab": {
     "base_uri": "https://localhost:8080/"
    },
    "id": "PQmxDc7RTT1q",
    "outputId": "7c742f2e-0a5c-4598-8e22-5e4ce51bb034"
   },
   "outputs": [
    {
     "name": "stdout",
     "output_type": "stream",
     "text": [
      "None\n",
      "None\n",
      "0.8081429669660173\n",
      "-2.474809633632684\n",
      "None\n"
     ]
    }
   ],
   "source": [
    "import math\n",
    "\n",
    "def find_roots( a, b, c):\n",
    "    dis = b * b - 4 * a * c\n",
    "    sqrt = math.sqrt(abs(dis))\n",
    "\n",
    "    if dis > 0:\n",
    "        print((-b + sqrt)/(2 * a))\n",
    "        print((-b - sqrt)/(2 * a))\n",
    "\n",
    "    elif dis == 0:\n",
    "        print(-b / (2 * a))\n",
    "\n",
    "    else: \n",
    "      print('None')\n",
    "\n",
    "\n",
    "\n",
    "\n",
    "print(find_roots( 1, 1, 1))\n",
    "print(find_roots( 3, 5, -6))\n"
   ]
  },
  {
   "cell_type": "markdown",
   "metadata": {
    "id": "36qoSbBLTT1r"
   },
   "source": [
    "Write some code to test your function and confirm it works as expected."
   ]
  },
  {
   "cell_type": "code",
   "execution_count": null,
   "metadata": {
    "colab": {
     "base_uri": "https://localhost:8080/"
    },
    "id": "NbDOhDelTT1r",
    "outputId": "04322426-31e2-4d89-c4a2-b6235566c726"
   },
   "outputs": [
    {
     "name": "stdout",
     "output_type": "stream",
     "text": [
      "1.0\n",
      "None\n",
      "4.0\n",
      "3.0\n",
      "None\n",
      "None\n",
      "None\n"
     ]
    }
   ],
   "source": [
    "print(find_roots( 1, -2, 1))\n",
    "\n",
    "print(find_roots( 1, -7, 12))\n",
    "\n",
    "print(find_roots( 5, 3, 2))"
   ]
  }
 ],
 "metadata": {
  "colab": {
   "collapsed_sections": [],
   "name": "Copy of assignment_1.ipynb",
   "provenance": []
  },
  "kernelspec": {
   "display_name": "Python 3.8 (full)",
   "language": "python",
   "name": "python3-3.8-ufrc"
  },
  "language_info": {
   "codemirror_mode": {
    "name": "ipython",
    "version": 3
   },
   "file_extension": ".py",
   "mimetype": "text/x-python",
   "name": "python",
   "nbconvert_exporter": "python",
   "pygments_lexer": "ipython3",
   "version": "3.8.5"
  }
 },
 "nbformat": 4,
 "nbformat_minor": 4
}
